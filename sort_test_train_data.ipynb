{
 "cells": [
  {
   "cell_type": "code",
   "execution_count": 1,
   "metadata": {},
   "outputs": [],
   "source": [
    "import numpy as np\n",
    "from numpy import asarray\n",
    "import pandas as pd\n",
    "\n",
    "import os\n",
    "import shutil \n",
    "import PIL\n",
    "from PIL import Image"
   ]
  },
  {
   "cell_type": "code",
   "execution_count": 2,
   "metadata": {},
   "outputs": [],
   "source": [
    "#get rid of empty images\n",
    "check = os.listdir('foo')\n",
    "for folder in check:\n",
    "    try:\n",
    "        imgs = os.listdir('foo/' + folder)\n",
    "    except:\n",
    "        continue\n",
    "    for i in imgs:  \n",
    "        try:\n",
    "            p = os.path.join('foo', folder, i)\n",
    "            o = Image.open(p)\n",
    "        except:\n",
    "            os.remove(p)"
   ]
  },
  {
   "cell_type": "code",
   "execution_count": 3,
   "metadata": {},
   "outputs": [],
   "source": [
    "#find the classes with 300-500 images\n",
    "folders = os.listdir('foo')\n",
    "num_imgs = []\n",
    "classes = []\n",
    "for i in np.arange(0,len(folders)):\n",
    "    try:\n",
    "        c = os.listdir('foo/'+folders[i])\n",
    "        length = len(c)\n",
    "        if length <= 300 or length >= 500:\n",
    "            pass\n",
    "        else: \n",
    "            num_imgs.append(length)\n",
    "            n = folders[i].split('.')[0]\n",
    "            classes.append(n)\n",
    "    except:\n",
    "        pass"
   ]
  },
  {
   "cell_type": "code",
   "execution_count": 4,
   "metadata": {},
   "outputs": [],
   "source": [
    "#folder_name in this case is either \"train\" or \"test\"\n",
    "def make_folders(folder_name):\n",
    "    try:\n",
    "        for j in np.arange(0, len(classes)):\n",
    "            path = os.path.join(folder_name, classes[j])\n",
    "            os.mkdir(path)\n",
    "    except:\n",
    "        pass\n",
    "\n",
    "make_folders('train')\n",
    "make_folders('test')"
   ]
  },
  {
   "cell_type": "code",
   "execution_count": 5,
   "metadata": {},
   "outputs": [],
   "source": [
    "#get list of train image from yoga_train.txt\n",
    "## Img_folder is folder with downloaded images, url corresponds to txt list of images in string form, folder_type is \"test\" or \"train\"\n",
    "def put_images_in_folder(img_folder, url, folder_type):\n",
    "    with open(url,'r') as f:\n",
    "        content = f.read()\n",
    "    f.close()\n",
    "    content = content.split('\\n')\n",
    "\n",
    "    for line in content:\n",
    "        name = line.split(',')[0]\n",
    "        check = name.split('/')[0]\n",
    "        if check in classes:\n",
    "            source = os.path.join(img_folder, name)\n",
    "            destination = os.path.join(folder_type, name)\n",
    "            try:\n",
    "                shutil.move(source, destination)\n",
    "            except:\n",
    "                pass\n",
    "\n",
    "put_images_in_folder('foo', 'yoga_train.txt',  'train')\n",
    "put_images_in_folder('foo', 'yoga_test.txt',  'test')"
   ]
  },
  {
   "cell_type": "code",
   "execution_count": 6,
   "metadata": {},
   "outputs": [],
   "source": [
    "classes = [f for f in os.listdir('train') if not f.startswith('.')]"
   ]
  }
 ],
 "metadata": {
  "kernelspec": {
   "display_name": "Python 3",
   "language": "python",
   "name": "python3"
  },
  "language_info": {
   "codemirror_mode": {
    "name": "ipython",
    "version": 3
   },
   "file_extension": ".py",
   "mimetype": "text/x-python",
   "name": "python",
   "nbconvert_exporter": "python",
   "pygments_lexer": "ipython3",
   "version": "3.7.7"
  }
 },
 "nbformat": 4,
 "nbformat_minor": 4
}
